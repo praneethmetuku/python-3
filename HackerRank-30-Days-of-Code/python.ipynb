{
 "cells": [
  {
   "cell_type": "markdown",
   "metadata": {},
   "source": [
    "# Day 0: Hello, World"
   ]
  },
  {
   "cell_type": "markdown",
   "metadata": {},
   "source": [
    "## Task\n",
    "To complete this challenge, you must save a line of input from stdin to a variable, print Hello, World. on a single line, and finally print the value of your variable on a second line.\n",
    "\n",
    "## Input Format\n",
    "A single line of text denoting inputString (the variable whose contents must be printed).\n",
    "\n",
    "## Output Format\n",
    "Print Hello, World. on the first line, and the contents of inputString on the second line.\n",
    "\n",
    "## Sample Input\n",
    "Welcome to 30 Days of Code!\n",
    "## Sample Output\n",
    "Hello, World. \n",
    "Welcome to 30 Days of Code!\n",
    "## Explanation\n",
    "On the first line, we print the string literal Hello, World.. On the second line, we print the contents of the variable inputString which, for this sample case, happens to be Welcome to 30 Days of Code!.\n",
    "\n",
    "If you do not print the variable's contents to stdout, you will not pass the hidden test case"
   ]
  },
  {
   "cell_type": "code",
   "execution_count": 1,
   "metadata": {},
   "outputs": [
    {
     "name": "stdout",
     "output_type": "stream",
     "text": [
      "Welcome to 30 Days of Code!\n",
      "Hello world\n",
      "Welcome to 30 Days of Code!\n"
     ]
    }
   ],
   "source": [
    "input_string=input()\n",
    "print('Hello world')\n",
    "print(input_string)"
   ]
  },
  {
   "cell_type": "markdown",
   "metadata": {},
   "source": [
    "![alt text](http://cinchpackaging.com/wp-content/uploads/2013/12/Blank-White-Page1.jpg)"
   ]
  },
  {
   "cell_type": "markdown",
   "metadata": {},
   "source": [
    "# Day 1: Data Types"
   ]
  },
  {
   "cell_type": "markdown",
   "metadata": {},
   "source": [
    "## Task\n",
    "Complete the code in the editor below. The variables i, d, and s are already declared and initialized for you. You must:\n",
    "\n",
    "Declare variables: one of type int, one of type double, and one of type String.\n",
    "Read 3 lines of input from stdin (according to the sequence given in the Input Format section below) and initialize your 3 variables.\n",
    "Use the + operator to perform the following operations:\n",
    "Print the sum of plus your int variable on a new line.\n",
    "Print the sum of plus your double variable to a scale of one decimal place on a new line.\n",
    "Concatenate with the string you read as input and print the result on a new line.\n",
    "#### Note: If you are using a language that doesn't support using + for string concatenation (e.g.: C), you can just print one variable immediately following the other on the same line. The string provided in your editor must be printed first, immediately followed by the string you read as input.\n",
    "\n",
    "## Input Format\n",
    "The first line contains an integer, i.\n",
    "\n",
    "The second line contains a double, d.\n",
    "\n",
    "The third line contains a string, s.\n",
    "\n",
    "## Output Format\n",
    "Print the sum of both integers on the first line, the sum of both doubles (scaled to 1 decimal place) on the second line, and then the two concatenated strings on the third line.\n",
    "\n",
    "## Sample Input\n",
    "12\n",
    "4.0\n",
    "is the best place to learn and practice coding!\n",
    "## Sample Output\n",
    "16\n",
    "8.0\n",
    "HackerRank is the best place to learn and practice coding!\n",
    "## Explanation\n",
    "When we sum the integers 4 and 12, we get the integer 16.\n",
    "\n",
    "When we sum the floating point numbers 4.0 and 4.0, we get 8.0.\n",
    "\n",
    "When we concatenate HackerRank with is the best place to learn and practice coding!, we get HackerRank is the best place to learn and practice coding!.\n",
    "\n",
    "You will not pass this challenge if you attempt to assign the Sample Case values to your variables instead of following the instructions above and reading input from stdin."
   ]
  },
  {
   "cell_type": "code",
   "execution_count": 4,
   "metadata": {},
   "outputs": [
    {
     "name": "stdout",
     "output_type": "stream",
     "text": [
      "enter i1 int value12\n",
      "enter d1 float value4.0\n",
      "enter s1 string value'is the best place to learn and practice coding!'\n"
     ]
    }
   ],
   "source": [
    "i=4\n",
    "d=4.0\n",
    "s='Hackerrank'\n",
    "i1=int(input(\"enter i1 int value\"))\n",
    "d1=float(input(\"enter d1 float value\"))\n",
    "s1=str(input(\"enter s1 string value\"))"
   ]
  },
  {
   "cell_type": "code",
   "execution_count": 5,
   "metadata": {},
   "outputs": [
    {
     "name": "stdout",
     "output_type": "stream",
     "text": [
      "16\n",
      "8.0\n",
      "Hackerrank'is the best place to learn and practice coding!'\n"
     ]
    }
   ],
   "source": [
    "print(i+i1)\n",
    "print(d+d1)\n",
    "print(s+s1)"
   ]
  },
  {
   "cell_type": "markdown",
   "metadata": {},
   "source": [
    "![alt text](http://cinchpackaging.com/wp-content/uploads/2013/12/Blank-White-Page1.jpg)"
   ]
  },
  {
   "cell_type": "markdown",
   "metadata": {},
   "source": [
    "# Day 2 Operators"
   ]
  },
  {
   "cell_type": "markdown",
   "metadata": {},
   "source": [
    "## Task\n",
    "Given the meal price (base cost of a meal), tip percent (the percentage of the meal price being added as tip), and tax percent (the percentage of the meal price being added as tax) for a meal, find and print the meal’s total cost.\n",
    "\n",
    "#### Note: Be sure to use precise values for your calculations, or you may end up with an incorrectly rounded result!\n",
    "\n",
    "## Input Format\n",
    "\n",
    "There are lines of numeric input:\n",
    "The first line has a double, (the cost of the meal before tax and tip).\n",
    "The second line has an integer, (the percentage of being added as tip).\n",
    "The third line has an integer, (the percentage of being added as tax).\n",
    "\n",
    "## Output Format\n",
    "\n",
    "Print The total meal cost is totalCost dollars., where is the rounded integer result of the entire bill ( with added tax and tip).\n",
    "\n",
    "## Sample Input\n",
    "12.00\n",
    "20\n",
    "8\n",
    "## Sample Output\n",
    "The total meal cost is 15 dollars."
   ]
  },
  {
   "cell_type": "code",
   "execution_count": 6,
   "metadata": {},
   "outputs": [
    {
     "name": "stdout",
     "output_type": "stream",
     "text": [
      "12\n",
      "20\n",
      "8\n",
      "The total meal cost is  15  dollars.\n"
     ]
    }
   ],
   "source": [
    "meal_price=float(input())\n",
    "tip_percent=int(input())\n",
    "tax_percent=int(input())\n",
    "\n",
    "tip=(meal_price*tip_percent)/100\n",
    "tax=(meal_price*tax_percent)/100\n",
    "total_cost=meal_price+tip+tax\n",
    "print('The total meal cost is  '+str(round(total_cost))+ '  dollars.')"
   ]
  },
  {
   "cell_type": "markdown",
   "metadata": {},
   "source": [
    "![alt text](http://cinchpackaging.com/wp-content/uploads/2013/12/Blank-White-Page1.jpg)"
   ]
  },
  {
   "cell_type": "markdown",
   "metadata": {},
   "source": [
    "# Day 3: Intro to Conditional Statements"
   ]
  },
  {
   "cell_type": "markdown",
   "metadata": {},
   "source": [
    "## Task\n",
    "Given an integer, n , perform the following conditional actions:\n",
    "\n",
    "If n is odd, print Weird.\n",
    "If n is even and in the inclusive range of 2 to 5 , print Not Weird.\n",
    "If n is even and in the inclusive range of 6 to 20 , print Weird.\n",
    "If n is even and greater than 20 , print Not Weird.\n",
    "Complete the stub code provided in your editor to print whether or not n is weird.\n",
    "\n",
    "## Input Format\n",
    "A single line containing a positive integer, n .\n",
    "\n",
    "## Constraints\n",
    "1 <= n <= 100\n",
    "## Output Format\n",
    "Print Weird if the number is weird; otherwise, print Not Weird.\n",
    "\n",
    "## Sample Input 0\n",
    "3\n",
    "## Sample Output 0\n",
    " Weird\n",
    "## Sample Input 1\n",
    "24\n",
    "## Sample Output 1\n",
    "  Not Weird\n",
    "## Explanation\n",
    "Sample Case 0: n = 3\n",
    "\n",
    "n is odd and odd numbers are weird, so we print Weird.\n",
    "\n",
    "Sample Case 1: n = 24\n",
    "\n",
    "n > 20 and n is even, so it isn't weird. Thus, we print Not Weird."
   ]
  },
  {
   "cell_type": "code",
   "execution_count": 7,
   "metadata": {},
   "outputs": [
    {
     "name": "stdout",
     "output_type": "stream",
     "text": [
      "24\n",
      "Not Weird(n>20 even)\n"
     ]
    }
   ],
   "source": [
    "n=int(input())\n",
    "if((n%2==0) & (1 <= n <= 100)):\n",
    "    if(2 <= n <= 5):\n",
    "        print('Not Weird(2<n>5 even)')\n",
    "    elif(6 <= n <= 20):\n",
    "        print('Weird(6<n>20 even)')\n",
    "    elif(20 <= n <= 100):\n",
    "        print('Not Weird(n>20 even)')\n",
    "elif((n%2==1) & (1 <= n <= 100)):\n",
    "    print('Weird(odd)')\n",
    "else:\n",
    "    print('please enter between 1 to 100')\n",
    "    \n",
    "    "
   ]
  },
  {
   "cell_type": "code",
   "execution_count": 8,
   "metadata": {},
   "outputs": [
    {
     "name": "stdout",
     "output_type": "stream",
     "text": [
      "24\n",
      "Not Weird\n"
     ]
    }
   ],
   "source": [
    "#second solution\n",
    "\n",
    "n = int(input())\n",
    "\n",
    "if n % 2 != 0:\n",
    "    print(\"Weird\")\n",
    "else:\n",
    "    if n <= 5:\n",
    "        print(\"Not Weird\")\n",
    "    elif n <= 20:\n",
    "        print(\"Weird\")\n",
    "    else:\n",
    "        \n",
    "        print(\"Not Weird\")"
   ]
  },
  {
   "cell_type": "markdown",
   "metadata": {},
   "source": [
    "![alt text](http://cinchpackaging.com/wp-content/uploads/2013/12/Blank-White-Page1.jpg)"
   ]
  },
  {
   "cell_type": "markdown",
   "metadata": {},
   "source": [
    "# Day 4: Class vs. Instance"
   ]
  },
  {
   "cell_type": "markdown",
   "metadata": {},
   "source": [
    "## Task\n",
    "Write a Person class with an instance variable, age, and a constructor that takes an integer, initialAge, as a parameter. The constructor must assign initialAge to age after confirming the argument passed as initialAge is not negative; if a negative argument is passed as initialAge, the constructor should set age to 0 and print Age is not valid, setting age to 0.\n",
    "\n",
    "In addition, you must write the following instance methods:\n",
    "\n",
    "yearPasses() should increase the age instance variable by 1.\n",
    "\n",
    "amIOld() should perform the following conditional actions:\n",
    "\n",
    "If age < 13, print You are young..\n",
    "If age >= 13 and age < 18, print You are a teenager..\n",
    "Otherwise, print You are old..\n",
    "To help you learn by example and complete this challenge, much of the code is provided for you, but you'll be writing everything in the future. The code that creates each instance of your Person class is in the main method. Don't worry if you don't understand it all quite yet!\n",
    "\n",
    "#### Note: Do not remove or alter the stub code in the editor.\n",
    "\n",
    "## Input Format\n",
    "Input is handled for you by the stub code in the editor.\n",
    "\n",
    "The first line contains an integer, T (the number of test cases), and the T subsequent lines each contain an integer denoting the age of a Person instance.\n",
    "\n",
    "## Constraints\n",
    "1 <= T <= 4\n",
    "-5 <= age <= 30\n",
    "## Output Format\n",
    "Complete the method definitions provided in the editor so they meet the specifications outlined above; the code to test your work is already in the editor. If your methods are implemented correctly, each test case will print 2 or 3 lines (depending on whether or not a valid initialAge was passed to the constructor).\n",
    "\n",
    "## Sample Input 0\n",
    "4\n",
    "-1\n",
    "10\n",
    "16\n",
    "18\n",
    "## Sample Output 0\n",
    "Age is not valid, setting age to 0.\n",
    "You are young.\n",
    "You are young.\n",
    "\n",
    "You are young.\n",
    "You are a teenager.\n",
    "\n",
    "You are a teenager.\n",
    "You are old.\n",
    "\n",
    "You are old.\n",
    "You are old.\n",
    "## Explanation\n",
    "#### Test Case 0: initialAge = -1\n",
    "\n",
    "Because initialAge < 0, our code must set age to 0 and print the \"Age is not valid..\" message followed by the young message. Three years pass and age = 3, so we print the young message again.\n",
    "\n",
    "#### Test Case 1: initialAge = 10\n",
    "\n",
    "Because initialAge < 13, our code should print that the person is young. Three years pass and age = 13, so we print that the person is now a teenager.\n",
    "\n",
    "#### Test Case 2: initialAge = 16\n",
    "\n",
    "Because , 13 <= initialAge < 18, our code should print that the person is a teenager. Three years pass and age = 19, so we print that the person is old.\n",
    "\n",
    "#### Test Case 3: initialAge = 18\n",
    "\n",
    "Because initialAge >= 18, our code should print that the person is old. Three years pass and the person is still old at age = 21, so we print the old message again.\n",
    "\n",
    "The extra line at the end of the output is supposed to be there and is trimmed before being compared against the test case's expected output. If you're failing this challenge, check your logic and review your print statements for spelling errors."
   ]
  },
  {
   "cell_type": "code",
   "execution_count": 9,
   "metadata": {},
   "outputs": [],
   "source": [
    "class Person():\n",
    "    def __init__(self,intialAge):\n",
    "        if(intialAge>0):\n",
    "            self.age=intialAge\n",
    "        else:\n",
    "            self.age=0\n",
    "            print(' Age is not valid, setting age to 0')\n",
    "    def yearPasses(self):\n",
    "        self.age=self.age+1\n",
    "        print('your current age is:',self.age)\n",
    "        \n",
    "    def amIOld(self):\n",
    "        if(self.age<13):\n",
    "            print('you are young..')\n",
    "        elif(13<=self.age<=18):\n",
    "            print('you are a teenager..')\n",
    "        else:\n",
    "            print('you are too old')\n",
    "    \n"
   ]
  },
  {
   "cell_type": "code",
   "execution_count": 10,
   "metadata": {},
   "outputs": [
    {
     "name": "stdout",
     "output_type": "stream",
     "text": [
      " Age is not valid, setting age to 0\n"
     ]
    }
   ],
   "source": [
    "p=Person(-1)"
   ]
  },
  {
   "cell_type": "code",
   "execution_count": 11,
   "metadata": {},
   "outputs": [],
   "source": [
    "p=Person(24)"
   ]
  },
  {
   "cell_type": "code",
   "execution_count": 12,
   "metadata": {},
   "outputs": [
    {
     "name": "stdout",
     "output_type": "stream",
     "text": [
      "you are too old\n"
     ]
    }
   ],
   "source": [
    "p.amIOld()"
   ]
  },
  {
   "cell_type": "code",
   "execution_count": 13,
   "metadata": {},
   "outputs": [
    {
     "name": "stdout",
     "output_type": "stream",
     "text": [
      "your current age is: 25\n"
     ]
    }
   ],
   "source": [
    "p.yearPasses()"
   ]
  },
  {
   "cell_type": "markdown",
   "metadata": {},
   "source": [
    "![alt text](http://cinchpackaging.com/wp-content/uploads/2013/12/Blank-White-Page1.jpg)"
   ]
  },
  {
   "cell_type": "markdown",
   "metadata": {},
   "source": [
    "# Day 5: Loops"
   ]
  },
  {
   "cell_type": "markdown",
   "metadata": {},
   "source": [
    "## Task\n",
    "Given an integer, n , print its first 10 multiples. Each multiple n * i (where 1 <= i <= 10 ) should be printed on a new line in the form: n x i = result.\n",
    "\n",
    "## Input Format\n",
    "A single integer, n.\n",
    "\n",
    "## Constraints\n",
    "2 <= n <= 20\n",
    "Output Format\n",
    "Print 10 lines of output; each line i (where 1 <= i <= 10) contains the result of (n * i) in the form: n x i = result.\n",
    "\n",
    "## Sample Input\n",
    "2\n",
    "## Sample Output\n",
    "- 2 x 1 = 2\n",
    "- 2 x 2 = 4\n",
    "- 2 x 3 = 6\n",
    "- 2 x 4 = 8\n",
    "- 2 x 5 = 10\n",
    "- 2 x 6 = 12\n",
    "- 2 x 7 = 14\n",
    "- 2 x 8 = 16\n",
    "- 2 x 9 = 18\n",
    "- 2 x 10 = 20"
   ]
  },
  {
   "cell_type": "code",
   "execution_count": 14,
   "metadata": {},
   "outputs": [
    {
     "name": "stdout",
     "output_type": "stream",
     "text": [
      "enter n value2\n",
      "2*1=2\n",
      "2*2=4\n",
      "2*3=6\n",
      "2*4=8\n",
      "2*5=10\n",
      "2*6=12\n",
      "2*7=14\n",
      "2*8=16\n",
      "2*9=18\n",
      "2*10=20\n"
     ]
    }
   ],
   "source": [
    "n=int(input(\"enter n value\"))\n",
    "if(2 <= n <= 20):\n",
    "    for i in range(1,11):\n",
    "        q=n*i\n",
    "        print(str(n)+'*'+str(i)+'='+str(q))\n",
    "else:\n",
    "    print('please enter number between 2 and 20')\n"
   ]
  },
  {
   "cell_type": "markdown",
   "metadata": {},
   "source": [
    "![alt text](http://cinchpackaging.com/wp-content/uploads/2013/12/Blank-White-Page1.jpg)"
   ]
  },
  {
   "cell_type": "markdown",
   "metadata": {},
   "source": [
    "# Day 6: Let's Review"
   ]
  },
  {
   "cell_type": "markdown",
   "metadata": {},
   "source": [
    "## Task\n",
    "Given a string, S, of length N that is indexed from 0 to N - 1, print its even-indexed and odd-indexed characters as 2 space-separated strings on a single line (see the Sample below for more detail).\n",
    "\n",
    "#### Note: is considered to be an even index.\n",
    "\n",
    "## Input Format\n",
    "The first line contains an integer, T (the number of test cases). Each line i of the T subsequent lines contain a String, S.\n",
    "\n",
    "## Constraints\n",
    "1 <= T <= 10\n",
    "-2 <= length of S <= 1000\n",
    "## Output Format\n",
    "For each String Sj (where 0 <= j <= T-1), print Sj's even-indexed characters, followed by a space, followed by Sj's odd-indexed characters.\n",
    "\n",
    "## Sample Input\n",
    "- 2\n",
    "- Hacker\n",
    "- Rank\n",
    "## Sample Output\n",
    "- Hce akr\n",
    "- Rn ak"
   ]
  },
  {
   "cell_type": "code",
   "execution_count": 15,
   "metadata": {},
   "outputs": [
    {
     "name": "stdout",
     "output_type": "stream",
     "text": [
      "2\n",
      "hacker \n",
      "hce  akr\n",
      "rank\n",
      "rn ak\n"
     ]
    }
   ],
   "source": [
    "n=int(input())\n",
    "for i in range(0,n):\n",
    "    s=str(input())\n",
    "    print(s[::2],s[1::2])"
   ]
  },
  {
   "cell_type": "markdown",
   "metadata": {},
   "source": [
    "![alt text](http://cinchpackaging.com/wp-content/uploads/2013/12/Blank-White-Page1.jpg)"
   ]
  },
  {
   "cell_type": "markdown",
   "metadata": {},
   "source": [
    "# Day 7: Arrays"
   ]
  },
  {
   "cell_type": "markdown",
   "metadata": {},
   "source": [
    "## Task\n",
    "Given an array, A, of N integers, print A's elements in reverse order as a single line of space-separated numbers.\n",
    "\n",
    "## Input Format\n",
    "The first line contains an integer, N (the size of our array). The second line contains N space-separated integers describing array A's elements.\n",
    "\n",
    "## Constraints\n",
    "1 <= N <= 1000\n",
    "1 <= Ai <= 10000, where Ai is the ith integer in the array.\n",
    "## Output Format\n",
    "Print the elements of array A in reverse order as a single line of space-separated numbers.\n",
    "\n",
    "## Sample Input\n",
    "4\n",
    "1 4 3 2\n",
    "## Sample Output\n",
    "2 3 4 1"
   ]
  },
  {
   "cell_type": "code",
   "execution_count": 4,
   "metadata": {},
   "outputs": [
    {
     "name": "stdout",
     "output_type": "stream",
     "text": [
      "4\n",
      "1 4 3 2\n",
      "[2, 3, 4, 1]\n"
     ]
    }
   ],
   "source": [
    "n=int(input().strip())\n",
    "arr=list(map(int,input().strip().split()))\n",
    "arr.reverse()\n",
    "print(arr,sep='')"
   ]
  },
  {
   "cell_type": "code",
   "execution_count": 5,
   "metadata": {},
   "outputs": [
    {
     "name": "stdout",
     "output_type": "stream",
     "text": [
      "4\n",
      "1 4 3 2\n",
      "['2', '3', '4', '1']\n"
     ]
    }
   ],
   "source": [
    "#second solution\n",
    "n=int(input())\n",
    "arr=list(map(int,input().split()))\n",
    "a=[]\n",
    "for i in range(len(arr)-1,-1,-1):\n",
    "    a.append(str(arr[i]))\n",
    "print(a)"
   ]
  },
  {
   "cell_type": "markdown",
   "metadata": {},
   "source": [
    "![alt text](http://cinchpackaging.com/wp-content/uploads/2013/12/Blank-White-Page1.jpg)"
   ]
  },
  {
   "cell_type": "markdown",
   "metadata": {},
   "source": [
    "# Day 8: Dictionaries and Maps"
   ]
  },
  {
   "cell_type": "markdown",
   "metadata": {},
   "source": [
    "## Task\n",
    "Given n names and phone numbers, assemble a phone book that maps friends' names to their respective phone numbers. You will then be given an unknown number of names to query your phone book for. For each name queried, print the associated entry from your phone book on a new line in the form name=phoneNumber; if an entry for name is not found, print Not found instead.\n",
    "\n",
    "#### Note: Your phone book should be a Dictionary/Map/HashMap data structure.\n",
    "\n",
    "## Input Format\n",
    "The first line contains an integer, n , denoting the number of entries in the phone book. Each of the n subsequent lines describes an entry in the form of 2 space-separated values on a single line. The first value is a friend's name, and the second value is an 8-digit phone number.\n",
    "\n",
    "After the n lines of phone book entries, there are an unknown number of lines of queries. Each line (query) contains a name to look up, and you must continue reading lines until there is no more input.\n",
    "\n",
    "#### Note: Names consist of lowercase English alphabetic letters and are first names only.\n",
    "\n",
    "## Constraints\n",
    "- 1 <= n <= 105\n",
    "- 1 <= queries <= 105\n",
    "- Output Format\n",
    "- On a new line for each query, print Not found if the name has no corresponding entry in the phone book; otherwise, print the  full name and _phoneNumbe_r in the format name=phoneNumber.\n",
    "\n",
    "## Sample Input\n",
    "- 3\n",
    "- sam 99912222\n",
    "- tom 11122222\n",
    "- harry 12299933\n",
    "- sam\n",
    "- edward\n",
    "- harry\n",
    "\n",
    "## Sample Output\n",
    "- sam=99912222\n",
    "- Not found\n",
    "- harry=12299933"
   ]
  },
  {
   "cell_type": "code",
   "execution_count": 6,
   "metadata": {},
   "outputs": [
    {
     "name": "stdout",
     "output_type": "stream",
     "text": [
      "3\n",
      "sam 99912222 \n",
      "tom 11122222 \n",
      "harry 12299933\n",
      "sam\n",
      "sam=99912222\n",
      "harry\n",
      "harry=12299933\n",
      "edward\n",
      "not found\n"
     ]
    }
   ],
   "source": [
    "n=int(input())\n",
    "d={}\n",
    "for i in range(0,n):\n",
    "    name,number=input().split()\n",
    "    d[name]=number\n",
    "    \n",
    "for i in range(0,n):\n",
    "    name=str(input().strip())\n",
    "    if name in d:\n",
    "        print(\"{}={}\".format(name,d[name]))\n",
    "    else:\n",
    "        print('not found')"
   ]
  },
  {
   "cell_type": "code",
   "execution_count": null,
   "metadata": {},
   "outputs": [],
   "source": [
    "#second solution\n",
    "n=int(input())\n",
    "d={}\n",
    "for i in range(0,n):\n",
    "    name,number=input().split()\n",
    "    d[name]=number\n",
    "while(True):\n",
    "    name=input().strip()\n",
    "    if name in d:\n",
    "        print(\"{}={}\".format(name,d[name]))\n",
    "    else:\n",
    "        print('not found')\n",
    "    if(name=='break'):\n",
    "        break\n",
    "    "
   ]
  },
  {
   "cell_type": "markdown",
   "metadata": {},
   "source": [
    "![alt text](http://cinchpackaging.com/wp-content/uploads/2013/12/Blank-White-Page1.jpg)"
   ]
  },
  {
   "cell_type": "markdown",
   "metadata": {},
   "source": [
    "# Day 9: Recursion"
   ]
  },
  {
   "cell_type": "markdown",
   "metadata": {},
   "source": [
    "## Task\n",
    "Write a factorial function that takes a positive integer, N as a parameter and prints the result of N! (N factorial).\n",
    "\n",
    "#### Note: If you fail to use recursion or fail to name your recursive function factorial or Factorial, you will get a score of 0.\n",
    "\n",
    "## Input Format\n",
    "2 <= N <= 12\n",
    "A single integer, N (the argument to pass to factorial).\n",
    "## Output Format\n",
    "Print a single integer denoting N!.\n",
    "\n",
    "## Sample Input\n",
    "3 \n",
    "## Sample Output\n",
    "6"
   ]
  },
  {
   "cell_type": "code",
   "execution_count": 1,
   "metadata": {},
   "outputs": [
    {
     "name": "stdout",
     "output_type": "stream",
     "text": [
      "3\n",
      "6\n"
     ]
    }
   ],
   "source": [
    "def factorial(n):\n",
    "    if n==1:\n",
    "        return 1\n",
    "    else:\n",
    "        return (n*factorial(n-1))\n",
    "    \n",
    "n=int(input())\n",
    "print(factorial(n))"
   ]
  },
  {
   "cell_type": "markdown",
   "metadata": {},
   "source": [
    "# Day 10: Binary Numbers\n",
    "\n",
    "\n",
    "## Task\n",
    "Given a base-10 integer, n, convert it to binary (base-2). Then find and print the base-10 integer denoting the maximum number of consecutive 1's in ns binary representation.\n",
    "\n",
    "## Input Format\n",
    "A single integer, n.\n",
    "\n",
    "## Constraints\n",
    "1 <= n <= 106\n",
    "Output Format\n",
    "Print a single base-10 integer denoting the maximum number of consecutive 1's in the binary representation of n.\n",
    "\n",
    "## Sample Input 1\n",
    "5 \n",
    "## Sample Output 1\n",
    "1 \n",
    "## Sample Input 2\n",
    "13\n",
    "## aSample Output 2\n",
    "2"
   ]
  },
  {
   "cell_type": "markdown",
   "metadata": {},
   "source": [
    "n=int(input())\n",
    "bin(n)[2:]"
   ]
  },
  {
   "cell_type": "code",
   "execution_count": 5,
   "metadata": {},
   "outputs": [
    {
     "name": "stdout",
     "output_type": "stream",
     "text": [
      "13\n",
      "2\n"
     ]
    }
   ],
   "source": [
    "n=int(input())\n",
    "binary=bin(n)[2:]\n",
    "count=0\n",
    "maxcount=0\n",
    "for i in binary:\n",
    "    if i=='1':\n",
    "        count=count+1\n",
    "    else:\n",
    "        if count>maxcount:\n",
    "            maxcount=count\n",
    "if count>maxcount:\n",
    "    maxcount=count\n",
    "print(maxcount-1)"
   ]
  },
  {
   "cell_type": "markdown",
   "metadata": {},
   "source": [
    "# Day 11: 2D Arrays\n",
    "\n",
    "## Context\n",
    "Given a 6x6 2D Array, A:\n",
    "\n",
    "1 1 1 0 0 0\n",
    "0 1 0 0 0 0\n",
    "1 1 1 0 0 0\n",
    "0 0 0 0 0 0\n",
    "0 0 0 0 0 0\n",
    "0 0 0 0 0 0\n",
    "We define an hourglass in A to be a subset of values with indices falling in this pattern in A's graphical representation:\n",
    "\n",
    "a b c\n",
    "  d\n",
    "e f g\n",
    "There are 16 hourglasses in A, and an hourglass sum is the sum of an hourglass' values.\n",
    "\n",
    "## Task\n",
    "Calculate the hourglass sum for every hourglass in A, then print the maximum hourglass sum.\n",
    "\n",
    "## Input Format\n",
    "There are 6 lines of input, where each line contains 6 space-separated integers describing 2D Array A; every value in A will be in the inclusive range of -9 to 9.\n",
    "\n",
    "## Constraints\n",
    "-9 <= A[i][j] <= 9\n",
    "0 <= i, j <= 5\n",
    "## Output Format\n",
    "Print the largest (maximum) hourglass sum found in A.\n",
    "\n",
    "## Sample Input\n",
    "1 1 1 0 0 0\n",
    "0 1 0 0 0 0\n",
    "1 1 1 0 0 0\n",
    "0 0 2 4 4 0\n",
    "0 0 0 2 0 0\n",
    "0 0 1 2 4 0\n",
    "## Sample Output\n",
    "19"
   ]
  },
  {
   "cell_type": "code",
   "execution_count": 10,
   "metadata": {},
   "outputs": [
    {
     "name": "stdout",
     "output_type": "stream",
     "text": [
      "1 1 1 0 0 0\n",
      "0 1 0 0 0 0\n",
      "1 1 1 0 0 0\n",
      "0 0 2 4 4 0\n",
      "0 0 0 2 0 0\n",
      "0 0 1 2 4 0\n",
      "19\n"
     ]
    }
   ],
   "source": [
    "arr = []\n",
    "\n",
    "for _ in range(6):\n",
    "    tmp = [int(x) for x in str(input()).split(\" \")]\n",
    "    arr.append(tmp)\n",
    "\n",
    "maximum = -9 * 7\n",
    "\n",
    "for i in range(6):\n",
    "    for j in range(6):\n",
    "        if j + 2 < 6 and i + 2 < 6:\n",
    "            result = arr[i][j] + arr[i][j + 1] + arr[i][j + 2] + arr[i + 1][j + 1] + arr[i + 2][j] + arr[i + 2][j + 1] + arr[i + 2][j + 2]\n",
    "            if result > maximum:\n",
    "                maximum = result\n",
    "\n",
    "print(maximum)"
   ]
  },
  {
   "cell_type": "markdown",
   "metadata": {},
   "source": [
    "## Day 12: Inheritance\n",
    "\n",
    "\n",
    "## Task\n",
    "You are given two classes, Person and Student, where Person is the base class and Student is the derived class. Completed code for Person and a declaration for Student are provided for you in the editor. Observe that Student inherits all the properties of Person.\n",
    "\n",
    "Complete the Student class by writing the following:\n",
    "- A Student class constructor, which has 4 parameters:\n",
    "1)A string, firstName.\n",
    "2)A string, lastName.\n",
    "3)An integer, id.\n",
    "4)An integer array (or vector) of test scores, scores.\n",
    "\n",
    "- A char calculate() method that calculates a Student object's average and returns the grade character representative of their calculated average:"
   ]
  },
  {
   "cell_type": "markdown",
   "metadata": {},
   "source": [
    "![alt text](https://raw.githubusercontent.com/praneethmetuku/file/master/Grading.png)"
   ]
  },
  {
   "cell_type": "markdown",
   "metadata": {},
   "source": [
    "## Input Format\n",
    "The locked stub code in your editor calls your Student class constructor and passes it the necessary arguments. It also calls the calculate method (which takes no arguments).\n",
    "\n",
    "You are not responsible for reading the following input from stdin:\n",
    "The first line contains firstName, lastName, and id, respectively. The second line contains the number of test scores. The third line of space-separated integers describes scores.\n",
    "\n",
    "## Constraints\n",
    "4 <= | firstName |, | lastName | <= 10\n",
    "| id | = 7\n",
    "0 <= score, average <= 100\n",
    "## Output Format\n",
    "This is handled by the locked stub code in your editor. Your output will be correct if your Student class constructor and calculate() method are properly implemented.\n",
    "\n",
    "## Sample Input\n",
    "Heraldo Memelli 8135627\n",
    "2\n",
    "100 80\n",
    "## Sample Output\n",
    " Name: Memelli, Heraldo\n",
    " ID: 8135627\n",
    " Grade: O"
   ]
  },
  {
   "cell_type": "code",
   "execution_count": 11,
   "metadata": {},
   "outputs": [],
   "source": [
    "class person:\n",
    "    def __init__(self,firstname,lastname,idnum):\n",
    "        self.firstname=firstname\n",
    "        self.lastname=lastname\n",
    "        self.idnum=int(idnum)\n",
    "    def printperson(self):\n",
    "        print(\"Name:\",self.lastname + \",\", self.firstname)\n",
    "        print(\"ID:\", self.idnum)"
   ]
  },
  {
   "cell_type": "code",
   "execution_count": 12,
   "metadata": {},
   "outputs": [],
   "source": [
    "class student(person):\n",
    "    def __init__(self,firstname,lastname,idnum):\n",
    "        super(student,self).__init__(firstname,lastname,idnum)\n",
    "        #self.score=score\n",
    "        self.score = list(map(int, input().split(',')))\n",
    "\n",
    "    \n",
    "    def calculate(self):\n",
    "        total = 0\n",
    "\n",
    "        for score in self.score:\n",
    "            total += score\n",
    "\n",
    "        avg = total / len(self.score)\n",
    "\n",
    "        if 90 <= avg <= 100:\n",
    "            return 'O'\n",
    "        if 80 <= avg < 90:\n",
    "            return 'E'\n",
    "        if 70 <= avg < 80:\n",
    "            return 'A'\n",
    "        if 55 <= avg < 70:\n",
    "            return 'P'\n",
    "        if 40 <= avg < 55:\n",
    "            return 'D'\n",
    "        return 'T'\n"
   ]
  },
  {
   "cell_type": "code",
   "execution_count": 13,
   "metadata": {},
   "outputs": [],
   "source": [
    "p=person('praneeth','metuku',682)"
   ]
  },
  {
   "cell_type": "code",
   "execution_count": 14,
   "metadata": {},
   "outputs": [
    {
     "name": "stdout",
     "output_type": "stream",
     "text": [
      "Name: metuku, praneeth\n",
      "ID: 682\n"
     ]
    }
   ],
   "source": [
    "p.printperson()"
   ]
  },
  {
   "cell_type": "code",
   "execution_count": 23,
   "metadata": {},
   "outputs": [
    {
     "name": "stdout",
     "output_type": "stream",
     "text": [
      "100,56,95\n"
     ]
    }
   ],
   "source": [
    "s=student('praneeth','metuku',682)"
   ]
  },
  {
   "cell_type": "code",
   "execution_count": 24,
   "metadata": {},
   "outputs": [
    {
     "data": {
      "text/plain": [
       "'E'"
      ]
     },
     "execution_count": 24,
     "metadata": {},
     "output_type": "execute_result"
    }
   ],
   "source": [
    "s.calculate()"
   ]
  },
  {
   "cell_type": "code",
   "execution_count": 25,
   "metadata": {},
   "outputs": [
    {
     "name": "stdout",
     "output_type": "stream",
     "text": [
      "Name: metuku, praneeth\n",
      "ID: 682\n"
     ]
    }
   ],
   "source": [
    "s.printperson()"
   ]
  },
  {
   "cell_type": "markdown",
   "metadata": {},
   "source": [
    "# Day 13: Abstract Classes\n",
    "\n",
    "## Task\n",
    "Given a Book class and a Solution class, write a MyBook class that does the following:\n",
    "\n",
    "- Inherits from Book\n",
    "- Has a parameterized constructor taking these 3 parameters:\n",
    " \n",
    " i)string title\n",
    " \n",
    " ii)string author\n",
    " \n",
    " iii)int price\n",
    "\n",
    "- Implements the Book class' abstract display() method so it prints these 3 lines:\n",
    " \n",
    " i)Title:, a space, and then the current instance's title.\n",
    " \n",
    " ii)Author:, a space, and then the current instance's author.\n",
    "\n",
    " iii)Price:, a space, and then the current instance's price.\n",
    "\n",
    "Note: Because these classes are being written in the same file, you must not use an access modifier (e.g.:public) when declaring MyBook or your code will not execute.\n",
    "\n",
    "## Input Format\n",
    "You are not responsible for reading any input from stdin. The Solution class creates a Book object and calls the MyBook class constructor (passing it the necessary arguments). It then calls the display method on the Book object.\n",
    "\n",
    "## Output Format\n",
    "The void display() method should print and label the respective title, author, and price of the MyBook object's instance (with each value on its own line) like so:\n",
    "\n",
    "Title: $title\n",
    "Author: $author\n",
    "Price: $price\n",
    "Note: The $ is prepended to variable names to indicate they are placeholders for variables.\n",
    "\n",
    "## Sample Input\n",
    "The following input from stdin is handled by the locked stub code in your editor:\n",
    "\n",
    "The Alchemist\n",
    "Paulo Coelho\n",
    "248\n",
    "## Sample Output\n",
    "The following output is printed by your display() method:\n",
    "\n",
    "Title: The Alchemist\n",
    "Author: Paulo Coelho\n",
    "Price: 248"
   ]
  },
  {
   "cell_type": "code",
   "execution_count": 26,
   "metadata": {},
   "outputs": [
    {
     "name": "stdout",
     "output_type": "stream",
     "text": [
      "The Alchemist\n",
      "Paulo Coelho\n",
      "248\n",
      "title:The Alchemist\n",
      "author:Paulo Coelho\n",
      "price:248\n"
     ]
    }
   ],
   "source": [
    "from abc import ABC,abstractmethod\n",
    "class book(ABC):\n",
    "    def __init__(self,title,author,price):\n",
    "        self.title=title\n",
    "        self.author=author\n",
    "        self.price=price\n",
    "    @abstractmethod\n",
    "    def display():\n",
    "        pass\n",
    "\n",
    "class mybook(book):\n",
    "    \n",
    "    def __init__(self,title,author,price):\n",
    "        super(mybook,self).__init__(title,author,price) \n",
    "    def display(self):\n",
    "        print(\"title:\"+self.title)\n",
    "        print(\"author:\"+self.author)\n",
    "        print(\"price:\"+str(self.price))\n",
    "        \n",
    "title=str(input())\n",
    "author=str(input())\n",
    "price=int(input())\n",
    "new_book=mybook(title,author,price)\n",
    "new_book.display()"
   ]
  },
  {
   "cell_type": "markdown",
   "metadata": {},
   "source": [
    "# Day 14: Scope\n",
    "Objective\n",
    "Today we're discussing scope. Check out the Tutorial tab for learning materials and an instructional video!\n",
    "\n",
    "The absolute difference between two integers, a and b, is written as |a - b|. The maximum absolute difference between two integers in a set of positive integers, elements, is the largest absolute difference between any two integers in elements.\n",
    "\n",
    "The Difference class is started for you in the editor. It has a private integer array (elements) for storing N non-negative integers, and a public integer (maximumDifference) for storing the maximum absolute difference.\n",
    "\n",
    "## Task\n",
    "Complete the Difference class by writing the following:\n",
    "\n",
    "A class constructor that takes an array of integers as a parameter and saves it to the elements instance variable.\n",
    "A computeDifference method that finds the maximum absolute difference between any 2 numbers in N and stores it in the maximumDifference instance variable.\n",
    "Input Format\n",
    "You are not responsible for reading any input from stdin. The locked Solution class in your editor reads in 2 lines of input; the first line contains N, and the second line describes the elements array.\n",
    "\n",
    "## Constraints\n",
    "1 <= N <= 10\n",
    "1 <= elements[i] <= 100, where 0 <= i <= N - 1\n",
    "## Output Format\n",
    "You are not responsible for printing any output; the Solution class will print the value of the maximumDifference instance variable.\n",
    "\n",
    "## Sample Input\n",
    "3\n",
    "1 2 5\n",
    "## Sample Output\n",
    "4"
   ]
  },
  {
   "cell_type": "code",
   "execution_count": 31,
   "metadata": {},
   "outputs": [],
   "source": [
    "class difference(object):\n",
    "    def __init__(self,a):\n",
    "        self.a=a\n",
    "        self.maxdiff=0\n",
    "        \n",
    "    def computedifference(self):\n",
    "        l=len(a)\n",
    "        for i in range(0,l):\n",
    "            for j in range(i+1,l):\n",
    "                diff=abs(a[i]-a[j])\n",
    "                self.maxdiff=max(diff,self.maxdiff)\n",
    "        print(self.maxdiff)"
   ]
  },
  {
   "cell_type": "code",
   "execution_count": 32,
   "metadata": {},
   "outputs": [
    {
     "name": "stdout",
     "output_type": "stream",
     "text": [
      "3,1,2,5\n"
     ]
    }
   ],
   "source": [
    "a=[int(i) for i in input().split(',')]"
   ]
  },
  {
   "cell_type": "code",
   "execution_count": 33,
   "metadata": {},
   "outputs": [],
   "source": [
    "d=difference(a)"
   ]
  },
  {
   "cell_type": "code",
   "execution_count": 34,
   "metadata": {},
   "outputs": [
    {
     "name": "stdout",
     "output_type": "stream",
     "text": [
      "4\n"
     ]
    }
   ],
   "source": [
    "d.computedifference()"
   ]
  },
  {
   "cell_type": "markdown",
   "metadata": {},
   "source": [
    "# Day 15: Linked List\n",
    "Objective\n",
    "Today we're working with Linked Lists. Check out the Tutorial tab for learning materials and an instructional video!#\n",
    "\n",
    "A Node class is provided for you in the editor. A Node object has an integer data field, data, and a Node instance pointer, next, pointing to another node (i.e.: the next node in a list).\n",
    "\n",
    "A Node insert function is also declared in your editor. It has two parameters: a pointer, head, pointing to the first node of a linked list, and an integer data value that must be added to the end of the list as a new Node object.\n",
    "\n",
    "## Task\n",
    "Complete the insert function in your editor so that it creates a new Node (pass data as the Node constructor argument) and inserts it at the tail of the linked list referenced by the head parameter. Once the new node is added, return the reference to the head node.\n",
    "\n",
    "Note: If the head argument passed to the insert function is null, then the initial list is empty.\n",
    "\n",
    "## Input Format\n",
    "The insert function has 2 parameters: a pointer to a Node named head, and an integer value, data. The constructor for Node has 1 parameter: an integer value for the data field.\n",
    "\n",
    "You do not need to read anything from stdin.\n",
    "\n",
    "## Output Format\n",
    "Your insert function should return a reference to the head node of the linked list.\n",
    "\n",
    "## Sample Input\n",
    "The following input is handled for you by the locked code in the editor: The first line contains T, the number of test cases. The T subsequent lines of test cases each contain an integer to be inserted at the list's tail.\n",
    "\n",
    "4\n",
    "2\n",
    "3\n",
    "4\n",
    "1\n",
    "## Sample Output\n",
    "The locked code in your editor prints the ordered data values for each element in your list as a single line of space-separated integers:\n",
    "\n",
    "2 3 4 1"
   ]
  },
  {
   "cell_type": "code",
   "execution_count": 35,
   "metadata": {},
   "outputs": [],
   "source": [
    "class Node:\n",
    "    def __init__(self, data):\n",
    "        self.data = data\n",
    "        self.next = None\n",
    "\n",
    "\n",
    "class Solution:\n",
    "    def display(self, head):\n",
    "        current = head\n",
    "        while current:\n",
    "            print(current.data, end=' ')\n",
    "            current = current.next\n",
    "\n",
    "    def insert(self, head, data):\n",
    "        if head is None:\n",
    "            head = Node(data)\n",
    "        else:\n",
    "            curr = head\n",
    "            while curr.next:\n",
    "                curr = curr.next\n",
    "            curr.next = Node(data)\n",
    "        return head"
   ]
  },
  {
   "cell_type": "code",
   "execution_count": 36,
   "metadata": {},
   "outputs": [
    {
     "name": "stdout",
     "output_type": "stream",
     "text": [
      "4\n",
      "2\n",
      "3\n",
      "4\n",
      "1\n",
      "2 3 4 1 "
     ]
    }
   ],
   "source": [
    "mylist = Solution()\n",
    "T = int(input())\n",
    "head = None\n",
    "for i in range(T):\n",
    "    data = int(input())\n",
    "    head = mylist.insert(head, data)\n",
    "mylist.display(head)"
   ]
  },
  {
   "cell_type": "markdown",
   "metadata": {},
   "source": [
    "# Day 16: Exceptions - String to Integer\n",
    "Objective\n",
    "Today, we're getting started with Exceptions by learning how to parse an integer from a string and print a custom error message. Check out the Tutorial tab for learning materials and an instructional video!\n",
    "\n",
    "## Task\n",
    "Read a string, S, and print its integer value; if S cannot be converted to an integer, print Bad String.\n",
    "\n",
    "Note: You must use the String-to-Integer and exception handling constructs built into your submission language. If you attempt to use loops/conditional statements, you will get a 0 score.\n",
    "\n",
    "## Input Format\n",
    "A single string, S.\n",
    "\n",
    "## Constraints\n",
    "1 <= | S | <= 6, where | S | is the length of the string S.\n",
    "S is either composed of lowercase letters (a - z) or decimal digits (0 - 9).\n",
    "## Output Format\n",
    "Print the parsed integer value of S, or Bad String if S cannot be converted to an integer.\n",
    "\n",
    "## Sample Input 0\n",
    "3\n",
    "## Sample Output 0\n",
    "3\n",
    "## Sample Input 1\n",
    "za\n",
    "## Sample Output 1\n",
    "Bad String"
   ]
  },
  {
   "cell_type": "code",
   "execution_count": 38,
   "metadata": {},
   "outputs": [
    {
     "name": "stdout",
     "output_type": "stream",
     "text": [
      "ZA\n",
      "ERROR: use only integers\n"
     ]
    }
   ],
   "source": [
    "import sys\n",
    "a=input().strip()\n",
    "try:\n",
    "    i=int(a)\n",
    "    print(i)\n",
    "except Exception:\n",
    "    print('ERROR: use only integers')"
   ]
  },
  {
   "cell_type": "markdown",
   "metadata": {},
   "source": [
    "# Day 17: More Exceptions\n",
    "Objective\n",
    "Yesterday's challenge taught you to manage exceptional situations by using try and catch blocks. In today's challenge, you're going to practice throwing and propagating an exception. Check out the Tutorial tab for learning materials and an instructional video!\n",
    "\n",
    "## Task\n",
    "Write a Calculator class with a single method: int power(int,int). The power method takes two integers, n and p, as parameters and returns the integer result of np. If either n or p is negative, then the method must throw an exception with the message: n and p should be non-negative.\n",
    "\n",
    "Note: Do not use an access modifier (e.g.: public) in the declaration for your Calculator class.\n",
    "\n",
    "## Input Format\n",
    "Input from stdin is handled for you by the locked stub code in your editor. The first line contains an integer, T, the number of test cases. Each of the T subsequent lines describes a test case in 2 space-separated integers denoting n and p, respectively.\n",
    "\n",
    "## Constraints\n",
    "No Test Case will result in overflow for correctly written code.\n",
    "Output Format\n",
    "Output to stdout is handled for you by the locked stub code in your editor. There are T lines of output, where each line contains the result of np as calculated by your Calculator class' power method.\n",
    "\n",
    "## Sample Input\n",
    "- 4\n",
    "- 3 5\n",
    "- 2 4\n",
    "- -1 -2\n",
    "- -1 3\n",
    "## Sample Output\n",
    "- 243\n",
    "- 16\n",
    "- n and p should be non-negative\n",
    "- n and p should be non-negative"
   ]
  },
  {
   "cell_type": "code",
   "execution_count": 39,
   "metadata": {},
   "outputs": [
    {
     "data": {
      "text/plain": [
       "16"
      ]
     },
     "execution_count": 39,
     "metadata": {},
     "output_type": "execute_result"
    }
   ],
   "source": [
    "class calculator:\n",
    "    def power(self,n,p):\n",
    "        try:\n",
    "            a=int(n)\n",
    "            b=int(p)\n",
    "            return a**b\n",
    "        except Exception:\n",
    "            print(\"n and p should be non-negative\")\n",
    "              \n",
    "c=calculator()\n",
    "c.power(2,4)"
   ]
  },
  {
   "cell_type": "markdown",
   "metadata": {},
   "source": [
    "## or"
   ]
  },
  {
   "cell_type": "code",
   "execution_count": 40,
   "metadata": {},
   "outputs": [],
   "source": [
    "class calculator:\n",
    "    def power(self,n,p):\n",
    "        if n<0 or p<0:\n",
    "            raise Exception('n and p should be non-negative')\n",
    "        else:\n",
    "            return n**p"
   ]
  },
  {
   "cell_type": "code",
   "execution_count": 41,
   "metadata": {},
   "outputs": [],
   "source": [
    "c=calculator()"
   ]
  },
  {
   "cell_type": "code",
   "execution_count": 42,
   "metadata": {},
   "outputs": [
    {
     "name": "stdout",
     "output_type": "stream",
     "text": [
      "4\n",
      "3,5\n",
      "243\n",
      "2,4\n",
      "16\n",
      "-1,-2\n",
      "n and p should be non-negative\n",
      "2,-2\n",
      "n and p should be non-negative\n"
     ]
    }
   ],
   "source": [
    "T=int(input())\n",
    "for i in range(T):\n",
    "    n,p=map(int,input().split(','))\n",
    "    try:\n",
    "        result=c.power(n,p)\n",
    "        print(result)\n",
    "    except Exception as e:\n",
    "        print(e)"
   ]
  },
  {
   "cell_type": "markdown",
   "metadata": {},
   "source": [
    "# Day 18: Queues and Stacks\n",
    "Welcome to Day 18! Today we're learning about Stacks and Queues. Check out the Tutorial tab for learning materials and an instructional video!\n",
    "\n",
    "A palindrome is a word, phrase, number, or other sequence of characters which reads the same backwards and forwards. Can you determine if a given string, , is a palindrome?\n",
    "\n",
    "To solve this challenge, we must first take each character in s, enqueue it in a queue, and also push that same character onto a stack. Once that's done, we must dequeue the first character from the queue and pop the top character off the stack, then compare the two characters to see if they are the same; as long as the characters match, we continue dequeueing, popping, and comparing each character until our containers are empty (a non-match means s isn't a palindrome).\n",
    "\n",
    "Write the following declarations and implementations:\n",
    "\n",
    "Two instance variables: one for your stack, and one for your queue.\n",
    "A void pushCharacter(char ch) method that pushes a character onto a stack.\n",
    "A void enqueueCharacter(char ch) method that enqueues a character in the queue instance variable.\n",
    "A char popCharacter() method that pops and returns the character at the top of the stack instance variable.\n",
    "A char dequeueCharacter() method that dequeues and returns the first character in the queue instance variable.\n",
    "Input Format\n",
    "You do not need to read anything from stdin. The locked stub code in your editor reads a single line containing string s. It then calls the methods specified above to pass each character to your instance variables.\n",
    "\n",
    "## Constraints\n",
    "s is composed of lowercase English letters.\n",
    "## Output Format\n",
    "You are not responsible for printing any output to stdout.\n",
    "If your code is correctly written and s is a palindrome, the locked stub code will print The word, s, is a palindrome.; otherwise, it will print The word, s, is not a palindrome.\n",
    "\n",
    "## Sample Input\n",
    "racecar\n",
    "## Sample Output\n",
    "The word, racecar, is a palindrome."
   ]
  },
  {
   "cell_type": "code",
   "execution_count": 43,
   "metadata": {},
   "outputs": [],
   "source": [
    "class palindrome:\n",
    "    def __init__(self):\n",
    "        self.stack=[]\n",
    "        self.queue=[]\n",
    "        \n",
    "    def pushcharac(self,char):\n",
    "        self.stack.append(char)\n",
    "    \n",
    "    def popcharac(self):\n",
    "        self.stack.pop()\n",
    "        \n",
    "    def enqueuecharac(self,char):\n",
    "        self.queue.append(char)\n",
    "        \n",
    "    def dequeuecharac(self):\n",
    "        char=self.queue[0]\n",
    "        self.queue=self.queue[1:]\n",
    "        return char\n",
    "    "
   ]
  },
  {
   "cell_type": "code",
   "execution_count": 45,
   "metadata": {},
   "outputs": [
    {
     "name": "stdout",
     "output_type": "stream",
     "text": [
      "ewdss\n",
      "The word, \"+s+\", is not a palindrome\n"
     ]
    }
   ],
   "source": [
    "s=str(input())\n",
    "pal=palindrome()\n",
    "l=len(s)\n",
    "for i in range(l):\n",
    "    pal.pushcharac(s[i])\n",
    "    pal.enqueuecharac(s[i])\n",
    "r=int(l/2)\n",
    "for i in range(r):\n",
    "    if pal.popcharac()!=pal.dequeuecharac():    \n",
    "        print('The word, \"+s+\", is not a palindrome')\n",
    "        break\n",
    "    elif pal.popcharac()==pal.dequeuecharac():\n",
    "        print('The word, \"+s+\", is  a palindrome')\n",
    "\n",
    "    "
   ]
  },
  {
   "cell_type": "code",
   "execution_count": 46,
   "metadata": {},
   "outputs": [
    {
     "name": "stdout",
     "output_type": "stream",
     "text": [
      "racecar\n",
      "The word, racecar, is a palindrome.\n"
     ]
    }
   ],
   "source": [
    "class Solution:\n",
    "    def __init__(self):\n",
    "        self.stack = []\n",
    "        self.queue = []\n",
    "\n",
    "    def popCharacter(self):\n",
    "        return self.stack.pop()\n",
    "\n",
    "    def pushCharacter(self, char):\n",
    "        self.stack.append(char)\n",
    "\n",
    "    def dequeueCharacter(self):\n",
    "        char = self.queue[0]\n",
    "        self.queue = self.queue[1:]\n",
    "        return char\n",
    "\n",
    "    def enqueueCharacter(self, char):\n",
    "        self.queue.append(char)\n",
    "\n",
    "\n",
    "# read the string s\n",
    "s = input()\n",
    "# Create the Solution class object\n",
    "obj = Solution()\n",
    "\n",
    "l = len(s)\n",
    "# push/enqueue all the characters of string s to stack\n",
    "for i in range(l):\n",
    "    obj.pushCharacter(s[i])\n",
    "    obj.enqueueCharacter(s[i])\n",
    "\n",
    "isPalindrome = True\n",
    "'''\n",
    "pop the top character from stack\n",
    "dequeue the first character from queue\n",
    "compare both the characters\n",
    "'''\n",
    "for i in range(l // 2):\n",
    "    if obj.popCharacter() != obj.dequeueCharacter():\n",
    "        isPalindrome = False\n",
    "        break\n",
    "# finally print whether string s is palindrome or not.\n",
    "if isPalindrome:\n",
    "    print(\"The word, \" + s + \", is a palindrome.\")\n",
    "else:\n",
    "    print(\"The word, \" + s + \", is not a palindrome.\")"
   ]
  },
  {
   "cell_type": "markdown",
   "metadata": {},
   "source": [
    "# Day 19: Interfaces\n",
    "Objective\n",
    "Today, we're learning about Interfaces. Check out the Tutorial tab for learning materials and an instructional video!\n",
    "\n",
    "## Task\n",
    "The AdvancedArithmetic interface and the method declaration for the abstract int divisorSum(int n) method are provided for you in the editor below.\n",
    "Write the Calculator class, which implements the AdvancedArithmetic interface. The implementation for the divisorSum method must be public and take an integer parameter, n, and return the sum of all its divisors.\n",
    "\n",
    "Note: Because we are writing multiple classes in the same file, do not use an access modifier (e.g.: public) in your class declaration (or your code will not compile); however, you must use the public access modifier before your method declaration for it to be accessible by the other classes in the file.\n",
    "\n",
    "## Input Format\n",
    "A single line containing an integer, n.\n",
    "\n",
    "## Constraints\n",
    "1 <= n <= 1000\n",
    "## Output Format\n",
    "You are not responsible for printing anything to stdout. The locked Solution class in the editor below will call your code and print the necessary output.\n",
    "\n",
    "## Sample Input\n",
    "6\n",
    "## Sample Output\n",
    "I implemented: AdvancedArithmetic\n",
    "12"
   ]
  },
  {
   "cell_type": "code",
   "execution_count": 47,
   "metadata": {},
   "outputs": [],
   "source": [
    "from abc import ABC, abstractmethod\n",
    "\n",
    "\n",
    "class AdvancedArithmetic(ABC):\n",
    "    @abstractmethod\n",
    "    def divisorSum(self, n):\n",
    "        pass\n",
    "    \n",
    "class Calculator(AdvancedArithmetic):\n",
    "    def divisorSum(self, n):\n",
    "        result = 0\n",
    "        for i in range(1,n+1):\n",
    "            if n % i == 0:\n",
    "                result += i\n",
    "        return result"
   ]
  },
  {
   "cell_type": "code",
   "execution_count": 48,
   "metadata": {},
   "outputs": [
    {
     "name": "stdout",
     "output_type": "stream",
     "text": [
      "6\n",
      "I implemented: <class '__main__.AdvancedArithmetic'>\n",
      "12\n"
     ]
    }
   ],
   "source": [
    "from __future__ import division\n",
    "n = int(input())\n",
    "\n",
    "s = Calculator()\n",
    "result = s.divisorSum(n)\n",
    "print(\"I implemented: \" + str(AdvancedArithmetic))\n",
    "print(result)"
   ]
  },
  {
   "cell_type": "markdown",
   "metadata": {},
   "source": [
    "# Day 20: Sorting\n",
    "Objective\n",
    "Today, we're discussing a simple sorting algorithm called Bubble Sort. Check out the Tutorial tab for learning materials and an instructional video!\n",
    "\n",
    "Consider the following version of Bubble Sort:\n",
    "\n",
    "for (int i = 0; i < n; i++) {\n",
    "    // Track number of elements swapped during a single array traversal\n",
    "    int numberOfSwaps = 0;\n",
    "    \n",
    "    for (int j = 0; j < n - 1; j++) {\n",
    "        // Swap adjacent elements if they are in decreasing order\n",
    "        if (a[j] > a[j + 1]) {\n",
    "            swap(a[j], a[j + 1]);\n",
    "            numberOfSwaps++;\n",
    "        }\n",
    "    }\n",
    "    \n",
    "    // If no elements were swapped during a traversal, array is sorted\n",
    "    if (numberOfSwaps == 0) {\n",
    "        break;\n",
    "    }\n",
    "}\n",
    "## Task\n",
    "Given an array, a, of size n containing distinct elements a[0], a[1],..., a[n -1], sort array a in ascending order using the Bubble Sort algorithm above. Once sorted, print the following lines:\n",
    "\n",
    "Array is sorted in numSwaps swaps\n",
    "where numSwaps is the number of swaps that took place.\n",
    "\n",
    "First Element: firstElement\n",
    "where firstElement is the first element in the sorted array.\n",
    "\n",
    "Last Element: lastElement\n",
    "where lastElement is the last element in the sorted array.\n",
    "\n",
    "Hint: To complete this challenge, you will need to add a variable that keeps a running tally of all swaps that occur during execution.\n",
    "\n",
    "## Input Format\n",
    "The first line contains an integer, n, denoting the number of elements in array a.\n",
    "The second line contains n space-separated integers describing a, where the ith integer is a[i], i belongs to [0, n - 1].\n",
    "\n",
    "## Constraints\n",
    "2 <= n <= 600\n",
    "1 <= a[i] <= 2 x 10 6, i belongs to [0, n - 1].\n",
    "## vOutput Format\n",
    "There should be lines of output:\n",
    "\n",
    "Array is sorted in numSwaps swaps\n",
    "where numSwaps is the number of swaps that took place.\n",
    "\n",
    "First Element: firstElement\n",
    "where firstElement is the first element in the sorted array.\n",
    "\n",
    "Last Element: lastElement\n",
    "where lastElement is the last element in the sorted array.\n",
    "\n",
    "## Sample Input 0\n",
    "3\n",
    "1 2 3\n",
    "## Sample Output 0\n",
    "Array is sorted in 0 swaps.\n",
    "First Element: 1\n",
    "Last Element: 3\n",
    "## Sample Input 1\n",
    "- 3\n",
    "- 3 2 1\n",
    "## Sample Output 1\n",
    "- Array is sorted in 3 swaps.\n",
    "- First Element: 1\n",
    "- Last Element: 3"
   ]
  },
  {
   "cell_type": "code",
   "execution_count": 49,
   "metadata": {},
   "outputs": [
    {
     "name": "stdout",
     "output_type": "stream",
     "text": [
      "3\n",
      "1,2,3\n",
      "Array is sorted in 0 swaps.\n",
      "First Element: 1\n",
      "Last Element: 3\n",
      "the array is:[1, 2, 3]\n"
     ]
    }
   ],
   "source": [
    "n=int(input())\n",
    "arr=[int(x) for x in input().split(',')]\n",
    "no_swaps=0\n",
    "for n in range(len(arr)-1,0,-1):\n",
    "        for k in range(n):\n",
    "            if arr[k]>arr[k+1]:\n",
    "                temp=arr[k]\n",
    "                arr[k]=arr[k+1]\n",
    "                arr[k+1]=temp\n",
    "                no_swaps=no_swaps+1\n",
    "print(\"Array is sorted in \" + str(no_swaps) + \" swaps.\")\n",
    "print(\"First Element: \" + str(arr[0]))\n",
    "print(\"Last Element: \" + str(arr[len(arr) - 1]))\n",
    "print('the array is:'+str(arr))"
   ]
  },
  {
   "cell_type": "markdown",
   "metadata": {},
   "source": [
    "# Day 21: Generics\n",
    "Objective\n",
    "Today we're discussing Generics; be aware that not all languages support this construct, so fewer languages are enabled for this challenge. Check out the Tutorial tab for learning materials and an instructional video!\n",
    "\n",
    "## Task\n",
    "Write a single generic function named printArray; this function must take an array of generic elements as a parameter (the exception to this is C++, which takes a vector). The locked Solution class in your editor tests your function.\n",
    "\n",
    "Note: You must use generics to solve this challenge. Do not write overloaded functions.\n",
    "\n",
    "## Input Format\n",
    "There is no input for this challenge. The locked Solution class in your editor will pass two different types of arrays to your printArray function.\n",
    "\n",
    "## Constraints\n",
    "You must have exactly 1 function named printArray.\n",
    "## Output Format\n",
    "Your printArray function should print each element of its generic array parameter on a new line."
   ]
  },
  {
   "cell_type": "code",
   "execution_count": 50,
   "metadata": {},
   "outputs": [
    {
     "name": "stdout",
     "output_type": "stream",
     "text": [
      "1\n",
      "2\n",
      "3\n",
      "Hello\n",
      "World\n"
     ]
    }
   ],
   "source": [
    "from typing import TypeVar\n",
    "\n",
    "Element = TypeVar(\"Element\")\n",
    "\n",
    "\n",
    "def printArray(array: [Element]):\n",
    "    for element in array:\n",
    "        print(element)\n",
    "\n",
    "\n",
    "vInt = [1, 2, 3]\n",
    "vString = [\"Hello\", \"World\"]\n",
    "\n",
    "printArray(vInt)\n",
    "printArray(vString)\n"
   ]
  },
  {
   "cell_type": "markdown",
   "metadata": {},
   "source": [
    "# Day 22: Binary Search Trees\n",
    "Objective\n",
    "Today, we're working with Binary Search Trees (BSTs). Check out the Tutorial tab for learning materials and an instructional video!\n",
    "\n",
    "## Task\n",
    "The height of a binary search tree is the number of edges between the tree's root and its furthest leaf. You are given a pointer, root, pointing to the root of a binary search tree. Complete the getHeight function provided in your editor so that it returns the height of the binary search tree.\n",
    "\n",
    "## Input Format\n",
    "The locked stub code in your editor reads the following inputs and assembles them into a binary search tree:\n",
    "The first line contains an integer, n, denoting the number of nodes in the tree. Each of the n subsequent lines contains an integer, data, denoting the value of an element that must be added to the BST.\n",
    "\n",
    "## Output Format\n",
    "The locked stub code in your editor will print the integer returned by your getHeight function denoting the height of the BST.\n",
    "\n",
    "## Sample Input\n",
    "7\n",
    "3\n",
    "5\n",
    "2\n",
    "1\n",
    "4\n",
    "6\n",
    "7\n",
    "## Sample Output\n",
    "3"
   ]
  },
  {
   "cell_type": "code",
   "execution_count": 51,
   "metadata": {},
   "outputs": [
    {
     "name": "stdout",
     "output_type": "stream",
     "text": [
      "7\n",
      "3\n",
      "5\n",
      "2\n",
      "1\n",
      "4\n",
      "6\n",
      "7\n",
      "heightis:3\n"
     ]
    }
   ],
   "source": [
    "class Node:\n",
    "    def __init__(self, data):\n",
    "        self.right = self.left = None\n",
    "        self.data = data\n",
    "\n",
    "\n",
    "class Solution:\n",
    "    def insert(self, root, data):\n",
    "        if root is None:\n",
    "            return Node(data)\n",
    "        else:\n",
    "            if data <= root.data:\n",
    "                cur = self.insert(root.left, data)\n",
    "                root.left = cur\n",
    "            else:\n",
    "                cur = self.insert(root.right, data)\n",
    "                root.right = cur\n",
    "        return root\n",
    "\n",
    "    def getHeight(self, root):\n",
    "        return -1 if root is None else 1 + max(self.getHeight(root.left), self.getHeight(root.right))\n",
    "\n",
    "\n",
    "T = int(input())\n",
    "myTree = Solution()\n",
    "root = None\n",
    "for i in range(T):\n",
    "    data = int(input())\n",
    "    root = myTree.insert(root, data)\n",
    "height = myTree.getHeight(root)\n",
    "print('heightis:'+str(height))"
   ]
  },
  {
   "cell_type": "markdown",
   "metadata": {},
   "source": [
    "# Day 23: BST Level-Order Traversal\n",
    "Objective\n",
    "Today, we're going further with Binary Search Trees. Check out the Tutorial tab for learning materials and an instructional video!\n",
    "\n",
    "## Task\n",
    "A level-order traversal, also known as a breadth-first search, visits each level of a tree's nodes from left to right, top to bottom. You are given a pointer, root, pointing to the root of a binary search tree. Complete the levelOrder function provided in your editor so that it prints the level-order traversal of the binary search tree.\n",
    "\n",
    "Hint: You'll find a queue helpful in completing this challenge.\n",
    "\n",
    "## Input Format\n",
    "The locked stub code in your editor reads the following inputs and assembles them into a BST: The first line contains an integer, T (the number of test cases). The T subsequent lines each contain an integer, data, denoting the value of an element that must be added to the BST.\n",
    "\n",
    "## Output Format\n",
    "Print the data value of each node in the tree's level-order traversal as a single line of N space-separated integers.\n",
    "\n",
    "## Sample Input\n",
    "6\n",
    "3\n",
    "5\n",
    "4\n",
    "7\n",
    "2\n",
    "1\n",
    "## Sample Output\n",
    "3 2 5 1 4 7 "
   ]
  },
  {
   "cell_type": "code",
   "execution_count": 52,
   "metadata": {},
   "outputs": [
    {
     "name": "stdout",
     "output_type": "stream",
     "text": [
      "6\n",
      "3\n",
      "5\n",
      "4\n",
      "7\n",
      "2\n",
      "1\n",
      "3 2 5 1 4 7 "
     ]
    }
   ],
   "source": [
    "class Node:\n",
    "    def __init__(self, data):\n",
    "        self.right = self.left = None\n",
    "        self.data = data\n",
    "\n",
    "\n",
    "class Solution:\n",
    "    def insert(self, root, data):\n",
    "        if root is None:\n",
    "            return Node(data)\n",
    "        else:\n",
    "            if data <= root.data:\n",
    "                cur = self.insert(root.left, data)\n",
    "                root.left = cur\n",
    "            else:\n",
    "                cur = self.insert(root.right, data)\n",
    "                root.right = cur\n",
    "        return root\n",
    "\n",
    "    def levelOrder(self, root):\n",
    "        queue = [root]\n",
    "        while len(queue) is not 0:\n",
    "            curr = queue[0]\n",
    "            queue = queue[1:]\n",
    "            print(str(curr.data) + \" \", end=\"\")\n",
    "\n",
    "            if curr.left is not None:\n",
    "                queue.append(curr.left)\n",
    "            if curr.right is not None:\n",
    "                queue.append(curr.right)\n",
    "\n",
    "\n",
    "T = int(input())\n",
    "myTree = Solution()\n",
    "root = None\n",
    "for i in range(T):\n",
    "    data = int(input())\n",
    "    root = myTree.insert(root, data)\n",
    "myTree.levelOrder(root)"
   ]
  },
  {
   "cell_type": "markdown",
   "metadata": {},
   "source": [
    "# Day 24: More Linked Lists\n",
    "Objective\n",
    "Check out the Tutorial tab for learning materials and an instructional video!\n",
    "\n",
    "## Task\n",
    "A Node class is provided for you in the editor. A Node object has an integer data field, data, and a Node instance pointer, next, pointing to another node (i.e.: the next node in a list).\n",
    "\n",
    "A removeDuplicates function is declared in your editor, which takes a pointer to the head node of a linked list as a parameter. Complete removeDuplicates so that it deletes any duplicate nodes from the list and returns the head of the updated list.\n",
    "\n",
    "Note: The head pointer may be null, indicating that the list is empty. Be sure to reset your next pointer when performing deletions to avoid breaking the list.\n",
    "\n",
    "## Input Format\n",
    "You do not need to read any input from stdin. The following input is handled by the locked stub code and passed to the removeDuplicates function: The first line contains an integer, N, the number of nodes to be inserted. The N subsequent lines each contain an integer describing the data value of a node being inserted at the list's tail.\n",
    "\n",
    "## Constraints\n",
    "The data elements of the linked list argument will always be in non-decreasing order.\n",
    "Output Format\n",
    "Your removeDuplicates function should return the head of the updated linked list. The locked stub code in your editor will print the returned list to stdout.\n",
    "\n",
    "## Sample Input\n",
    "6\n",
    "1\n",
    "2\n",
    "2\n",
    "3\n",
    "3\n",
    "4\n",
    "## Sample Output\n",
    "1 2 3 4 "
   ]
  },
  {
   "cell_type": "code",
   "execution_count": 53,
   "metadata": {},
   "outputs": [
    {
     "name": "stdout",
     "output_type": "stream",
     "text": [
      "6\n",
      "1 \n",
      "2\n",
      "2\n",
      "3\n",
      "3\n",
      "4\n",
      "1 2 3 4 "
     ]
    }
   ],
   "source": [
    "class Node:\n",
    "    def __init__(self, data):\n",
    "        self.data = data\n",
    "        self.next = None\n",
    "\n",
    "\n",
    "class Solution:\n",
    "    def insert(self, head, data):\n",
    "        p = Node(data)\n",
    "        if head is None:\n",
    "            head = p\n",
    "        elif head.next is None:\n",
    "            head.next = p\n",
    "        else:\n",
    "            start = head\n",
    "            while start.next is not None:\n",
    "                start = start.next\n",
    "            start.next = p\n",
    "        return head\n",
    "\n",
    "    def display(self, head):\n",
    "        current = head\n",
    "        while current:\n",
    "            print(current.data, end=\" \")\n",
    "            current = current.next\n",
    "\n",
    "    def removeDuplicates(self, head):\n",
    "        curr = head\n",
    "        while curr is not None and curr.next is not None:\n",
    "            while curr.next is not None and curr.data is curr.next.data:\n",
    "                curr.next = curr.next.next\n",
    "            curr = curr.next\n",
    "        return head\n",
    "\n",
    "\n",
    "mylist = Solution()\n",
    "T = int(input())\n",
    "head = None\n",
    "for i in range(T):\n",
    "    data = int(input())\n",
    "    head = mylist.insert(head, data)\n",
    "head = mylist.removeDuplicates(head)\n",
    "mylist.display(head)"
   ]
  },
  {
   "cell_type": "markdown",
   "metadata": {},
   "source": [
    "# Day 25: Running Time and Complexity\n",
    "Objective\n",
    "Today we're learning about running time! Check out the Tutorial tab for learning materials and an instructional video!\n",
    "\n",
    "## Task\n",
    "A prime is a natural number greater 1 than that has no positive divisors other than 1 and itself. Given a number, n, determine and print whether it's Prime or Not Prime.\n",
    "\n",
    "Note: If possible, try to come up with a O(sqrt(n)) primality algorithm, or see what sort of optimizations you come up with for an O(n) algorithm. Be sure to check out the Editorial after submitting your code!\n",
    "\n",
    "## Input Format\n",
    "The first line contains an integer, T, the number of test cases. Each of the T subsequent lines contains an integer, n, to be tested for primality.\n",
    "\n",
    "## Constraints\n",
    "1 <= T <= 20\n",
    "1 <= n <= 2 x 10 9\n",
    "Output Format\n",
    "For each test case, print whether n is Prime or Not Prime on a new line.\n",
    "\n",
    "## Sample Input\n",
    "3\n",
    "12\n",
    "5\n",
    "7\n",
    "## Sample Output\n",
    "Not prime\n",
    "Prime\n",
    "Prime"
   ]
  },
  {
   "cell_type": "code",
   "execution_count": 54,
   "metadata": {},
   "outputs": [
    {
     "name": "stdout",
     "output_type": "stream",
     "text": [
      "5\n",
      "6\n",
      "Not prime\n",
      "2\n",
      "Not prime\n",
      "53\n",
      "Prime\n",
      "32\n",
      "Not prime\n",
      "343\n",
      "Prime\n"
     ]
    }
   ],
   "source": [
    "from math import sqrt\n",
    "\n",
    "T = int(input())\n",
    "\n",
    "\n",
    "def isPrime(n):\n",
    "    for i in range(2,n):\n",
    "        if n % i == 0:\n",
    "            return False\n",
    "        else:\n",
    "            return True\n",
    "\n",
    "\n",
    "for _ in range(T):\n",
    "    n = int(input())\n",
    "    \n",
    "    if n >= 2 and isPrime(n):\n",
    "        print(\"Prime\")\n",
    "    else:\n",
    "        print(\"Not prime\")"
   ]
  },
  {
   "cell_type": "markdown",
   "metadata": {},
   "source": [
    "# Day 26: Nested Logic\n",
    "Objective\n",
    "Today's challenge puts your understanding of nested conditional statements to the test. You already have the knowledge to complete this challenge, but check out the Tutorial tab for a video on testing!\n",
    "\n",
    "## Task\n",
    "Your local library needs your help! Given the expected and actual return dates for a library book, create a program that calculates the fine (if any). The fee structure is as follows:\n",
    "\n",
    "If the book is returned on or before the expected return date, no fine will be charged (i.e.: fine = 0).\n",
    "If the book is returned after the expected return day but still within the same calendar month and year as the expected return date, fine = 15 Hackos * no. of days late.\n",
    "If the book is returned after the expected return month but still within the same calendar year as the expected return date, the fine = 500 Hackos * no. of months late.\n",
    "If the book is returned after the calendar year in which it was expected, there is a fixed fine of 10000 Hackos.\n",
    "## Input Format\n",
    "The first line contains space-separated integers denoting the respective day, month, and year on which the book was actually returned.\n",
    "The second line contains space-separated integers denoting the respective day, month and year on which the book was expected to be returned (due date).\n",
    "\n",
    "## Constraints\n",
    "1 <= D <= 31\n",
    "1 <= M <= 12\n",
    "1 <= Y <= 3000\n",
    "It is guaranteed that dates will be valid Gregorian Calendar dates.\n",
    "Output Format\n",
    "Print a single integer denoting the library fine for the book received as input.\n",
    "\n",
    "## Sample Input\n",
    "9 6 2015\n",
    "6 6 2015\n",
    "## Sample Output\n",
    "45"
   ]
  },
  {
   "cell_type": "code",
   "execution_count": 55,
   "metadata": {},
   "outputs": [
    {
     "name": "stdout",
     "output_type": "stream",
     "text": [
      "9,6,2018\n",
      "3,6,2018\n",
      "90\n"
     ]
    }
   ],
   "source": [
    "actualdate=str(input()).split(',')\n",
    "adate = int(actualdate[0])\n",
    "amonth = int(actualdate[1])\n",
    "ayear = int(actualdate[2])\n",
    "\n",
    "expecteddate=str(input()).split(',')\n",
    "edate = int(expecteddate[0])\n",
    "emonth = int(expecteddate[1])\n",
    "eyear = int(expecteddate[2])\n",
    "\n",
    "fine=0\n",
    "\n",
    "if ayear>eyear: \n",
    "    fine=10000\n",
    "    \n",
    "elif ayear==eyear:\n",
    "    if amonth>emonth:\n",
    "        fine=(amonth-emonth)*500\n",
    "    elif adate>edate:\n",
    "        fine=(adate-edate)*15\n",
    "print(fine)"
   ]
  },
  {
   "cell_type": "markdown",
   "metadata": {},
   "source": [
    "# Day 27: Testing\n",
    "Objective\n",
    "This challenge is very different from the others we've completed because it requires you to generate a valid test case for a problem instead of solving the problem.\n",
    "There is no input to read, you simply have to generate and print test values for the problem that satisfy both the problem's Input Format and the criteria laid out in the Task section. Check out the Tutorial tab for an instructional video on testing!\n",
    "\n",
    "## Task\n",
    "Create and print a test case for the problem above that meet the following criteria:\n",
    "\n",
    "t <= 5\n",
    "1 <= n <= 200\n",
    "1 <= k <= n\n",
    "-103 <= ai <= 103, where i belongs to [1, n]\n",
    "The value of n must be distinct across all the test cases.\n",
    "Array A must have at least 1 zero, 1 positive integer, and 1 negative integer.\n",
    "Scoring\n",
    "If you submit x correct test cases, you will earn (20.x)% of the maximum score.\n",
    "You must submit 5 test cases to earn the maximum possible score.\n",
    "\n",
    "## Input Format\n",
    "You are not responsible for reading anything from stdin.\n",
    "\n",
    "## Output Format\n",
    "Print 11 lines of output that can be read by the Professor challenge as valid input. Your test case must result in the following output when fed as input to the Professor challenge's solution:\n",
    "\n",
    "YES\n",
    "NO\n",
    "YES\n",
    "NO\n",
    "YES"
   ]
  },
  {
   "cell_type": "code",
   "execution_count": 57,
   "metadata": {},
   "outputs": [
    {
     "name": "stdout",
     "output_type": "stream",
     "text": [
      "3\n",
      "4 3\n",
      "-1 0 1 4\n",
      "5 3\n",
      "0 2 -4 -6 9\n",
      "6 4\n",
      "1 0 -3 4 -2 7\n",
      "2\n",
      "1 2\n",
      "12 2\n",
      "YES\n",
      "1 2\n",
      "1 2\n",
      "YES\n"
     ]
    }
   ],
   "source": [
    "print (\"3\")\n",
    "print (\"4 3\")\n",
    "print (\"-1 0 1 4\")\n",
    "print (\"5 3\")\n",
    "print (\"0 2 -4 -6 9\")\n",
    "print (\"6 4\")\n",
    "print (\"1 0 -3 4 -2 7\")\n",
    "t = int(input())\n",
    "for a0 in range(t):\n",
    "    count=0\n",
    "    n,k = map(int,input().split())\n",
    "    a = [int(i) for i in input().split()]\n",
    "    for a_i in range(n):\n",
    "        if(a[a_i]<=0):\n",
    "            count+=1\n",
    "    if(count>=k):\n",
    "        print (\"NO\")\n",
    "    else:\n",
    "        print (\"YES\")"
   ]
  },
  {
   "cell_type": "markdown",
   "metadata": {},
   "source": [
    "# Day 28: RegEx, Patterns, and Intro to Databases\n",
    "Objective\n",
    "Today, we're working with regular expressions. Check out the Tutorial tab for learning materials and an instructional video!\n",
    "\n",
    "## Task\n",
    "Consider a database table, Emails, which has the attributes First Name and Email ID. Given N rows of data simulating the Emails table, print an alphabetically-ordered list of people whose email address ends in gmail.com.\n",
    "\n",
    "## Input Format\n",
    "The first line contains an integer, N, total number of rows in the table.\n",
    "Each of the N subsequent lines contains 2 space-separated strings denoting a person's first name and email ID, respectively.\n",
    "\n",
    "## Constraints\n",
    "2 <= N <= 30\n",
    "Each of the first names consists of lower case letters [a - z] only.\n",
    "Each of the email IDs consists of lower case letters [a - z], @ and . only.\n",
    "The length of the first name is no longer than 20.\n",
    "The length of the email ID is no longer than 50.\n",
    "Output Format\n",
    "Print an alphabetically-ordered list of first names for every user with a gmail account. Each name must be printed on a new line.\n",
    "\n",
    "## Sample Input\n",
    "6\n",
    "riya riya@gmail.com\n",
    "julia julia@julia.me\n",
    "julia sjulia@gmail.com\n",
    "julia julia@gmail.com\n",
    "samantha samantha@gmail.com\n",
    "tanya tanya@gmail.com\n",
    "## Sample Output\n",
    "julia\n",
    "julia\n",
    "riya\n",
    "samantha\n",
    "tanya"
   ]
  },
  {
   "cell_type": "code",
   "execution_count": 59,
   "metadata": {},
   "outputs": [
    {
     "name": "stdout",
     "output_type": "stream",
     "text": [
      "2\n",
      "praneeth@gmail.com\n",
      "bunny@yahho.in\n",
      "praneeth\n"
     ]
    }
   ],
   "source": [
    "import re\n",
    "\n",
    "arr = []\n",
    "\n",
    "n = int(input())\n",
    "\n",
    "for i in range(n):\n",
    "    data = str(input()).split(\"@\")\n",
    "    name = data[0]\n",
    "    email = data[1]\n",
    "\n",
    "    if re.search(\"gmail.com\", email):\n",
    "        arr.append(name)\n",
    "\n",
    "arr.sort()\n",
    "\n",
    "for name in arr:\n",
    "    print(name) "
   ]
  },
  {
   "cell_type": "markdown",
   "metadata": {},
   "source": [
    "# Day 29: Bitwise AND\n",
    "Objective\n",
    "Welcome to the last day! Today, we're discussing bitwise operations. Check out the Tutorial tab for learning materials and an instructional video!\n",
    "\n",
    "## Task\n",
    "Given set S. Find two integers, A and B (where A < B), from set S such that the value of A&B is the maximum possible and also less than a given integer, K. In this case, & represents the bitwise AND operator.\n",
    "\n",
    "## Input Format\n",
    "The first line contains an integer, T, the number of test cases. Each of the T subsequent lines defines a test case as 2 space-separated integers, N and K, respectively.\n",
    "\n",
    "## Output Format\n",
    "For each test case, print the maximum possible value of on a new line.\n",
    "\n",
    "## Sample Input\n",
    "3 5 2 8 5 2 2\n",
    "## Sample Output\n",
    "1 4 0"
   ]
  },
  {
   "cell_type": "code",
   "execution_count": 61,
   "metadata": {},
   "outputs": [
    {
     "name": "stdout",
     "output_type": "stream",
     "text": [
      "3\n",
      "5 2\n",
      "1\n",
      "8 5\n",
      "4\n",
      "2 2\n",
      "0\n"
     ]
    }
   ],
   "source": [
    "T = int(input())\n",
    "\n",
    "for i in range(T):\n",
    "    tmp = str(input()).split()\n",
    "    N = int(tmp[0])\n",
    "    K = int(tmp[1])\n",
    "\n",
    "    maximum = 0\n",
    "\n",
    "    for j in range(1, N):\n",
    "        for k in range(j + 1, N + 1):\n",
    "            h = j & k\n",
    "            if K > h > maximum:\n",
    "                maximum = h\n",
    "\n",
    "    print(maximum)"
   ]
  },
  {
   "cell_type": "code",
   "execution_count": null,
   "metadata": {},
   "outputs": [],
   "source": []
  }
 ],
 "metadata": {
  "kernelspec": {
   "display_name": "Python 3",
   "language": "python",
   "name": "python3"
  },
  "language_info": {
   "codemirror_mode": {
    "name": "ipython",
    "version": 3
   },
   "file_extension": ".py",
   "mimetype": "text/x-python",
   "name": "python",
   "nbconvert_exporter": "python",
   "pygments_lexer": "ipython3",
   "version": "3.6.4"
  }
 },
 "nbformat": 4,
 "nbformat_minor": 2
}
